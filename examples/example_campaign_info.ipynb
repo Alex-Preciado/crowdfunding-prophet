{
 "cells": [
  {
   "cell_type": "code",
   "execution_count": 1,
   "metadata": {},
   "outputs": [],
   "source": [
    "import sys, os\n",
    "sys.path.insert(0, os.path.abspath('../'))\n",
    "#sys.path.insert(0, '/Users/jorge/git/crowdfunding-prophet/')\n",
    "\n",
    "from cwdprophet.campaign import *\n",
    "import pandas as pd"
   ]
  },
  {
   "cell_type": "markdown",
   "metadata": {},
   "source": [
    "### Campaign Info"
   ]
  },
  {
   "cell_type": "code",
   "execution_count": 2,
   "metadata": {},
   "outputs": [],
   "source": [
    "url = 'https://www.crowdfunder.co.uk/the-community-waffle-house'\n",
    "#url = 'https://www.crowdfunder.co.uk/save-the-new-inn-norton-lindsey'\n",
    "campaign = load_campaign(campaign_url=url)"
   ]
  },
  {
   "cell_type": "code",
   "execution_count": 3,
   "metadata": {
    "scrolled": true
   },
   "outputs": [
    {
     "name": "stdout",
     "output_type": "stream",
     "text": [
      "Campaign Title: The Community Waffle House\n",
      "URL: https://www.crowdfunder.co.uk/the-community-waffle-house\n",
      "Creator: Tim Whiteway\n",
      "Location: Axminster, England, United Kingdom\n",
      "Deadline: 5th January 2019\n",
      "Duration: 28 days\n",
      "Project FB: https://www.facebook.com/waffleaxminster\n",
      "Project TWitter: None\n",
      "Nupdates: 5\n",
      "Ncomments: 12\n",
      "Ninvestors: 26\n"
     ]
    }
   ],
   "source": [
    "campaign.report()"
   ]
  },
  {
   "cell_type": "markdown",
   "metadata": {},
   "source": [
    "### Historical data"
   ]
  },
  {
   "cell_type": "code",
   "execution_count": 4,
   "metadata": {},
   "outputs": [
    {
     "name": "stdout",
     "output_type": "stream",
     "text": [
      "Scraping: https://www.crowdfunder.co.uk/the-community-waffle-house/backers\n",
      "Scraping: https://www.crowdfunder.co.uk/the-community-waffle-house/backers?page=2#\n"
     ]
    },
    {
     "data": {
      "text/html": [
       "<div>\n",
       "<style scoped>\n",
       "    .dataframe tbody tr th:only-of-type {\n",
       "        vertical-align: middle;\n",
       "    }\n",
       "\n",
       "    .dataframe tbody tr th {\n",
       "        vertical-align: top;\n",
       "    }\n",
       "\n",
       "    .dataframe thead th {\n",
       "        text-align: right;\n",
       "    }\n",
       "</style>\n",
       "<table border=\"1\" class=\"dataframe\">\n",
       "  <thead>\n",
       "    <tr style=\"text-align: right;\">\n",
       "      <th></th>\n",
       "      <th>date</th>\n",
       "      <th>supporter name</th>\n",
       "      <th>pledge</th>\n",
       "    </tr>\n",
       "  </thead>\n",
       "  <tbody>\n",
       "    <tr>\n",
       "      <th>0</th>\n",
       "      <td>8th December 2018 21:59</td>\n",
       "      <td>Anonymous</td>\n",
       "      <td>100.0</td>\n",
       "    </tr>\n",
       "    <tr>\n",
       "      <th>1</th>\n",
       "      <td>9th December 2018 16:04</td>\n",
       "      <td>Ila O'Brien Loveridge</td>\n",
       "      <td>10.0</td>\n",
       "    </tr>\n",
       "    <tr>\n",
       "      <th>2</th>\n",
       "      <td>9th December 2018 17:48</td>\n",
       "      <td>Louise Joy</td>\n",
       "      <td>20.0</td>\n",
       "    </tr>\n",
       "    <tr>\n",
       "      <th>3</th>\n",
       "      <td>9th December 2018 18:17</td>\n",
       "      <td>Maxine Kallenberg</td>\n",
       "      <td>10.0</td>\n",
       "    </tr>\n",
       "    <tr>\n",
       "      <th>4</th>\n",
       "      <td>10th December 2018 15:36</td>\n",
       "      <td>Claire Ranyard</td>\n",
       "      <td>20.0</td>\n",
       "    </tr>\n",
       "  </tbody>\n",
       "</table>\n",
       "</div>"
      ],
      "text/plain": [
       "                       date         supporter name  pledge\n",
       "0   8th December 2018 21:59              Anonymous   100.0\n",
       "1   9th December 2018 16:04  Ila O'Brien Loveridge    10.0\n",
       "2   9th December 2018 17:48             Louise Joy    20.0\n",
       "3   9th December 2018 18:17      Maxine Kallenberg    10.0\n",
       "4  10th December 2018 15:36         Claire Ranyard    20.0"
      ]
     },
     "execution_count": 4,
     "metadata": {},
     "output_type": "execute_result"
    }
   ],
   "source": [
    "pledges, dates, names = campaign.pledges()\n",
    "df = pd.DataFrame({'date': dates,\n",
    "                   'supporter name': names,\n",
    "                   'pledge': pledges})\n",
    "df.head()"
   ]
  },
  {
   "cell_type": "code",
   "execution_count": null,
   "metadata": {},
   "outputs": [],
   "source": []
  }
 ],
 "metadata": {
  "kernelspec": {
   "display_name": "Python 3",
   "language": "python",
   "name": "python3"
  },
  "language_info": {
   "codemirror_mode": {
    "name": "ipython",
    "version": 3
   },
   "file_extension": ".py",
   "mimetype": "text/x-python",
   "name": "python",
   "nbconvert_exporter": "python",
   "pygments_lexer": "ipython3",
   "version": "3.6.8"
  }
 },
 "nbformat": 4,
 "nbformat_minor": 2
}
