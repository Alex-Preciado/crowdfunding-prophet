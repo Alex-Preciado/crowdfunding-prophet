{
 "cells": [
  {
   "cell_type": "markdown",
   "metadata": {},
   "source": [
    "## Load required libraries"
   ]
  },
  {
   "cell_type": "code",
   "execution_count": 1,
   "metadata": {},
   "outputs": [],
   "source": [
    "from selenium import webdriver\n",
    "from bs4 import BeautifulSoup\n",
    "import time\n",
    "from matplotlib import pyplot as plt\n",
    "import numpy as np\n",
    "import pandas as pd"
   ]
  },
  {
   "cell_type": "code",
   "execution_count": 2,
   "metadata": {},
   "outputs": [],
   "source": [
    "import sys, os\n",
    "sys.path.insert(0, os.path.abspath('../'))\n",
    "#sys.path.insert(0, '/Users/jorge/git/crowdfunding-prophet/')\n",
    "from cwdprophet.campaign import *"
   ]
  },
  {
   "cell_type": "markdown",
   "metadata": {},
   "source": [
    "## Useful functions"
   ]
  },
  {
   "cell_type": "code",
   "execution_count": 3,
   "metadata": {},
   "outputs": [],
   "source": [
    "def get_category_url(category,campaign_state=None):\n",
    "    \n",
    "    projects_url = 'https://www.crowdfunder.co.uk/search/projects'    \n",
    "    states = ['recent','pending','ending','successful','overfunding']\n",
    "    \n",
    "    if campaign_state is None:\n",
    "        return projects_url+'?filter[c]='+category.replace(' ','+')\n",
    "    \n",
    "    elif campaign_state in states:\n",
    "        return projects_url+'?filter[c]='+category.replace(' ','+')+'&filter[t]='+campaign_state\n",
    "    \n",
    "    else:\n",
    "        print('Not a valid option')\n",
    "        exit()\n",
    "\n",
    "\n",
    "def pages_in_category(category,campaign_state):\n",
    "    \n",
    "    browser.get(get_category_url(category,campaign_state));\n",
    "    pagination = browser.find_elements_by_css_selector('a.cf-button.cf-button--pagination')\n",
    "    page_numbers = [page.text for page in pagination]\n",
    "\n",
    "    if len(page_numbers)!= 0:\n",
    "        return int(page_numbers[-1])\n",
    "    else:\n",
    "        return 1\n"
   ]
  },
  {
   "cell_type": "markdown",
   "metadata": {},
   "source": [
    "## Get list of URLs to be scraped"
   ]
  },
  {
   "cell_type": "markdown",
   "metadata": {},
   "source": [
    "### 1. Get the list of all project categories"
   ]
  },
  {
   "cell_type": "code",
   "execution_count": 4,
   "metadata": {},
   "outputs": [],
   "source": [
    "# Load a web driver with your favorite browser\n",
    "# to get the list of project categories in www.crowdfunder.co.uk\n",
    "browser = webdriver.Chrome();\n",
    "browser.get('https://www.crowdfunder.co.uk/search/projects')\n",
    "\n",
    "soup = BeautifulSoup(browser.page_source,'html.parser')\n",
    "categories = [item.text.replace(' ','+') for item in soup.find('select',{\"id\":\"filter_c\"}).find_all('option')][1:]\n",
    "\n",
    "browser.quit()"
   ]
  },
  {
   "cell_type": "code",
   "execution_count": 5,
   "metadata": {},
   "outputs": [
    {
     "data": {
      "text/plain": [
       "['Community',\n",
       " 'Business',\n",
       " 'Charities',\n",
       " 'Arts',\n",
       " 'Film+and+Theatre',\n",
       " 'Social+Enterprise',\n",
       " 'Music',\n",
       " 'Politics',\n",
       " 'Schools',\n",
       " 'Sports',\n",
       " 'Personal+Causes',\n",
       " 'Technology',\n",
       " 'Food+and+Drink',\n",
       " 'Environment',\n",
       " 'University',\n",
       " 'Publishing',\n",
       " 'Community+shares',\n",
       " 'Heritage']"
      ]
     },
     "execution_count": 5,
     "metadata": {},
     "output_type": "execute_result"
    }
   ],
   "source": [
    "# Here is the list of all categories\n",
    "categories"
   ]
  },
  {
   "cell_type": "markdown",
   "metadata": {},
   "source": [
    "### List of Number of pages per category shown in Project Search results"
   ]
  },
  {
   "cell_type": "code",
   "execution_count": 6,
   "metadata": {},
   "outputs": [],
   "source": [
    "category = 'Community'\n",
    "campaign_state = 'successful'"
   ]
  },
  {
   "cell_type": "code",
   "execution_count": 7,
   "metadata": {},
   "outputs": [
    {
     "name": "stdout",
     "output_type": "stream",
     "text": [
      "Community has 42 pages\n",
      "Business has 42 pages\n",
      "Charities has 42 pages\n",
      "Arts has 42 pages\n",
      "Film+and+Theatre has 42 pages\n",
      "Social+Enterprise has 31 pages\n",
      "Music has 40 pages\n",
      "Politics has 42 pages\n",
      "Schools has 27 pages\n",
      "Sports has 27 pages\n",
      "Personal+Causes has 21 pages\n",
      "Technology has 9 pages\n",
      "Food+and+Drink has 14 pages\n",
      "Environment has 14 pages\n",
      "University has 11 pages\n",
      "Publishing has 7 pages\n",
      "Community+shares has 5 pages\n",
      "Heritage has 3 pages\n"
     ]
    }
   ],
   "source": [
    "# Load a web driver (Chrome in this case)\n",
    "browser = webdriver.Chrome();\n",
    "\n",
    "cat_pages_urls = []\n",
    "all_cats_pages_urls = []\n",
    "\n",
    "for category in categories:\n",
    "    for page in range(1,pages_in_category(category,campaign_state)+1):\n",
    "        cat_pages_urls.append(get_category_url(category,campaign_state)+'&page='+str(page))\n",
    "    \n",
    "    print(category,'has',page,'pages')\n",
    "    \n",
    "    temp_list = cat_pages_urls.copy()\n",
    "    all_cats_pages_urls.append(temp_list)\n",
    "    cat_pages_urls.clear()\n",
    "\n",
    "browser.quit()"
   ]
  },
  {
   "cell_type": "code",
   "execution_count": 8,
   "metadata": {},
   "outputs": [
    {
     "name": "stdout",
     "output_type": "stream",
     "text": [
      "https://www.crowdfunder.co.uk/search/projects?filter[c]=Community&filter[t]=successful&page=1\n",
      "https://www.crowdfunder.co.uk/search/projects?filter[c]=Community&filter[t]=successful&page=2\n",
      "https://www.crowdfunder.co.uk/search/projects?filter[c]=Community&filter[t]=successful&page=3\n",
      "...\n",
      "https://www.crowdfunder.co.uk/search/projects?filter[c]=Business&filter[t]=successful&page=1\n",
      "https://www.crowdfunder.co.uk/search/projects?filter[c]=Business&filter[t]=successful&page=2\n",
      "https://www.crowdfunder.co.uk/search/projects?filter[c]=Business&filter[t]=successful&page=3\n",
      "...\n",
      "...\n",
      "https://www.crowdfunder.co.uk/search/projects?filter[c]=Heritage&filter[t]=successful&page=3\n"
     ]
    }
   ],
   "source": [
    "# And now we have a list of all search pages per category\n",
    "for i in range(0,2):\n",
    "    for url in all_cats_pages_urls[i][0:3]:\n",
    "        print(url)\n",
    "    print('...')\n",
    "\n",
    "print('...')\n",
    "print(all_cats_pages_urls[-1][-1])"
   ]
  },
  {
   "cell_type": "markdown",
   "metadata": {},
   "source": [
    "### Focusing on \"Community\" projects.\n",
    "Here we will get for each campaign:\n",
    "- URL\n",
    "- Titles\n",
    "- Total Raised\n",
    "- Percentage of Original Goal"
   ]
  },
  {
   "cell_type": "code",
   "execution_count": 9,
   "metadata": {},
   "outputs": [
    {
     "name": "stdout",
     "output_type": "stream",
     "text": [
      "Getting all URLs from https://www.crowdfunder.co.uk/search/projects?filter[c]=Community&filter[t]=successful&page=1\n",
      "Getting all URLs from https://www.crowdfunder.co.uk/search/projects?filter[c]=Community&filter[t]=successful&page=2\n",
      "Getting all URLs from https://www.crowdfunder.co.uk/search/projects?filter[c]=Community&filter[t]=successful&page=3\n",
      "\n",
      "...\n"
     ]
    }
   ],
   "source": [
    "# We use the previous list of search pages to get the URLS of\n",
    "# all the campaigns in one of the categories (Community for example)\n",
    "\n",
    "# IMPORTANT NOTE: to get started let's focus on the *Community* campaigns\n",
    "community_pages_urls = all_cats_pages_urls[0]\n",
    "\n",
    "browser = webdriver.Chrome();\n",
    "\n",
    "# Initialize lists to save campaigns info\n",
    "campaigns_titles = [];\n",
    "campaigns_urls = [];\n",
    "campaigns_goal_pct = [];\n",
    "campaigns_raised = [];\n",
    "\n",
    "for page_url in community_pages_urls:\n",
    "    \n",
    "    if page_url in community_pages_urls[0:3]:\n",
    "        print('Getting all URLs from',page_url)\n",
    "    \n",
    "    browser.get(page_url)\n",
    "    soup = BeautifulSoup(browser.page_source,'html.parser')\n",
    "    articles = soup.find_all('article',{'class':'cf-pod'})\n",
    "    \n",
    "    for article in articles:\n",
    "        \n",
    "        campaigns_titles.append(article.find('h5').text)\n",
    "        campaigns_urls.append(article.find('a',{'class':'cf-pod__image'})['href'])\n",
    "        campaigns_goal_pct.append(float(article.find('div',\n",
    "                                                     {'class':'cf-text cf-text--light cf-text--fixed14'}).text.split()[0][:-1]))\n",
    "        campaigns_raised.append(int(article.find('div',\n",
    "                                                 {'class':'cf-text cf-text--light cf-text--fixed14 cf-text--thick'}).text.split()[0][1:].replace(',', '')))\n",
    "        \n",
    "    time.sleep(2)\n",
    "\n",
    "print('\\n...')\n",
    "\n",
    "browser.quit()"
   ]
  },
  {
   "cell_type": "code",
   "execution_count": 10,
   "metadata": {},
   "outputs": [
    {
     "name": "stdout",
     "output_type": "stream",
     "text": [
      "Here are the details of the first ten Community projects ...\n",
      "\n",
      "GlenWyvis Distillery\n",
      "https://www.crowdfunder.co.uk/glenwyvis-distillery\n",
      "170.0% of goal raised\n",
      "£2544210 total\n",
      "\n",
      "Aberdeen Community Energy - Donside Hydro\n",
      "https://www.crowdfunder.co.uk/ace\n",
      "100.0% of goal raised\n",
      "£500000 total\n",
      "\n",
      "Save The New Inn, Norton Lindsey\n",
      "https://www.crowdfunder.co.uk/save-the-new-inn-norton-lindsey\n",
      "114.0% of goal raised\n",
      "£342000 total\n",
      "\n",
      "...\n",
      "...\n",
      "There are 1000 Community campaigns in total\n"
     ]
    }
   ],
   "source": [
    "# Here are the details of the first projects\n",
    "#\n",
    "print('Here are the details of the first ten Community projects ...\\n')\n",
    "for title,campaign,goal_pct,raised in zip(campaigns_titles[0:3],campaigns_urls[0:3],\n",
    "                                          campaigns_goal_pct[0:3],campaigns_raised[0:3]):\n",
    "    print(title)\n",
    "    print(campaign)\n",
    "    print(format(goal_pct,\",\")+'% of goal raised')\n",
    "    print('£'+str(raised),'total\\n')\n",
    "    \n",
    "\n",
    "print('...\\n...\\nThere are',len(campaigns_urls),'Community campaigns in total')"
   ]
  },
  {
   "cell_type": "code",
   "execution_count": 11,
   "metadata": {},
   "outputs": [
    {
     "data": {
      "text/html": [
       "<div>\n",
       "<style scoped>\n",
       "    .dataframe tbody tr th:only-of-type {\n",
       "        vertical-align: middle;\n",
       "    }\n",
       "\n",
       "    .dataframe tbody tr th {\n",
       "        vertical-align: top;\n",
       "    }\n",
       "\n",
       "    .dataframe thead th {\n",
       "        text-align: right;\n",
       "    }\n",
       "</style>\n",
       "<table border=\"1\" class=\"dataframe\">\n",
       "  <thead>\n",
       "    <tr style=\"text-align: right;\">\n",
       "      <th></th>\n",
       "      <th>title</th>\n",
       "      <th>URL</th>\n",
       "      <th>Total raised</th>\n",
       "      <th>Pct Original Goal</th>\n",
       "      <th>Goal</th>\n",
       "      <th>successful</th>\n",
       "    </tr>\n",
       "  </thead>\n",
       "  <tbody>\n",
       "    <tr>\n",
       "      <th>0</th>\n",
       "      <td>GlenWyvis Distillery</td>\n",
       "      <td>https://www.crowdfunder.co.uk/glenwyvis-distil...</td>\n",
       "      <td>2544210</td>\n",
       "      <td>170</td>\n",
       "      <td>1496594</td>\n",
       "      <td>True</td>\n",
       "    </tr>\n",
       "    <tr>\n",
       "      <th>1</th>\n",
       "      <td>Aberdeen Community Energy - Donside Hydro</td>\n",
       "      <td>https://www.crowdfunder.co.uk/ace</td>\n",
       "      <td>500000</td>\n",
       "      <td>100</td>\n",
       "      <td>500000</td>\n",
       "      <td>True</td>\n",
       "    </tr>\n",
       "    <tr>\n",
       "      <th>2</th>\n",
       "      <td>Save The New Inn, Norton Lindsey</td>\n",
       "      <td>https://www.crowdfunder.co.uk/save-the-new-inn...</td>\n",
       "      <td>342000</td>\n",
       "      <td>114</td>\n",
       "      <td>300000</td>\n",
       "      <td>True</td>\n",
       "    </tr>\n",
       "    <tr>\n",
       "      <th>3</th>\n",
       "      <td>Perranporth Community Pool</td>\n",
       "      <td>https://www.crowdfunder.co.uk/perranporth-comm...</td>\n",
       "      <td>250322</td>\n",
       "      <td>100</td>\n",
       "      <td>250322</td>\n",
       "      <td>True</td>\n",
       "    </tr>\n",
       "    <tr>\n",
       "      <th>4</th>\n",
       "      <td>Save The Bromley Cross</td>\n",
       "      <td>https://www.crowdfunder.co.uk/save-the-bromley...</td>\n",
       "      <td>212502</td>\n",
       "      <td>101</td>\n",
       "      <td>210398</td>\n",
       "      <td>True</td>\n",
       "    </tr>\n",
       "  </tbody>\n",
       "</table>\n",
       "</div>"
      ],
      "text/plain": [
       "                                       title  \\\n",
       "0                       GlenWyvis Distillery   \n",
       "1  Aberdeen Community Energy - Donside Hydro   \n",
       "2           Save The New Inn, Norton Lindsey   \n",
       "3                 Perranporth Community Pool   \n",
       "4                     Save The Bromley Cross   \n",
       "\n",
       "                                                 URL  Total raised  \\\n",
       "0  https://www.crowdfunder.co.uk/glenwyvis-distil...       2544210   \n",
       "1                  https://www.crowdfunder.co.uk/ace        500000   \n",
       "2  https://www.crowdfunder.co.uk/save-the-new-inn...        342000   \n",
       "3  https://www.crowdfunder.co.uk/perranporth-comm...        250322   \n",
       "4  https://www.crowdfunder.co.uk/save-the-bromley...        212502   \n",
       "\n",
       "   Pct Original Goal    Goal  successful  \n",
       "0                170 1496594        True  \n",
       "1                100  500000        True  \n",
       "2                114  300000        True  \n",
       "3                100  250322        True  \n",
       "4                101  210398        True  "
      ]
     },
     "execution_count": 11,
     "metadata": {},
     "output_type": "execute_result"
    }
   ],
   "source": [
    "df = pd.DataFrame({'title': campaigns_titles, 'URL': campaigns_urls, \n",
    "                   'Total raised': campaigns_raised, 'Pct Original Goal': campaigns_goal_pct})\n",
    "\n",
    "\n",
    "# We can now estimate the original goal using the percentage \n",
    "# of the total goal achieved by the campaign\n",
    "df['Pct Original Goal'] = df['Pct Original Goal'].replace(0,0.17105)\n",
    "df['Goal'] = df['Total raised']/df['Pct Original Goal']*100\n",
    "df['successful'] = df['Pct Original Goal'] >= 100\n",
    "\n",
    "pd.options.display.float_format = '{:.0f}'.format\n",
    "df.head()"
   ]
  },
  {
   "cell_type": "markdown",
   "metadata": {},
   "source": [
    "Let's no save the campaign info to a CSV file"
   ]
  },
  {
   "cell_type": "code",
   "execution_count": 17,
   "metadata": {},
   "outputs": [
    {
     "data": {
      "text/html": [
       "<div>\n",
       "<style scoped>\n",
       "    .dataframe tbody tr th:only-of-type {\n",
       "        vertical-align: middle;\n",
       "    }\n",
       "\n",
       "    .dataframe tbody tr th {\n",
       "        vertical-align: top;\n",
       "    }\n",
       "\n",
       "    .dataframe thead th {\n",
       "        text-align: right;\n",
       "    }\n",
       "</style>\n",
       "<table border=\"1\" class=\"dataframe\">\n",
       "  <thead>\n",
       "    <tr style=\"text-align: right;\">\n",
       "      <th></th>\n",
       "      <th>title</th>\n",
       "      <th>URL</th>\n",
       "      <th>Category</th>\n",
       "      <th>Goal</th>\n",
       "      <th>Total raised</th>\n",
       "      <th>Pct Original Goal</th>\n",
       "      <th>successful</th>\n",
       "    </tr>\n",
       "  </thead>\n",
       "  <tbody>\n",
       "    <tr>\n",
       "      <th>0</th>\n",
       "      <td>GlenWyvis Distillery</td>\n",
       "      <td>https://www.crowdfunder.co.uk/glenwyvis-distil...</td>\n",
       "      <td>Community</td>\n",
       "      <td>1496594</td>\n",
       "      <td>2544210</td>\n",
       "      <td>170</td>\n",
       "      <td>True</td>\n",
       "    </tr>\n",
       "    <tr>\n",
       "      <th>1</th>\n",
       "      <td>Aberdeen Community Energy - Donside Hydro</td>\n",
       "      <td>https://www.crowdfunder.co.uk/ace</td>\n",
       "      <td>Community</td>\n",
       "      <td>500000</td>\n",
       "      <td>500000</td>\n",
       "      <td>100</td>\n",
       "      <td>True</td>\n",
       "    </tr>\n",
       "    <tr>\n",
       "      <th>2</th>\n",
       "      <td>Save The New Inn, Norton Lindsey</td>\n",
       "      <td>https://www.crowdfunder.co.uk/save-the-new-inn...</td>\n",
       "      <td>Community</td>\n",
       "      <td>300000</td>\n",
       "      <td>342000</td>\n",
       "      <td>114</td>\n",
       "      <td>True</td>\n",
       "    </tr>\n",
       "    <tr>\n",
       "      <th>3</th>\n",
       "      <td>Perranporth Community Pool</td>\n",
       "      <td>https://www.crowdfunder.co.uk/perranporth-comm...</td>\n",
       "      <td>Community</td>\n",
       "      <td>250322</td>\n",
       "      <td>250322</td>\n",
       "      <td>100</td>\n",
       "      <td>True</td>\n",
       "    </tr>\n",
       "    <tr>\n",
       "      <th>4</th>\n",
       "      <td>Save The Bromley Cross</td>\n",
       "      <td>https://www.crowdfunder.co.uk/save-the-bromley...</td>\n",
       "      <td>Community</td>\n",
       "      <td>210398</td>\n",
       "      <td>212502</td>\n",
       "      <td>101</td>\n",
       "      <td>True</td>\n",
       "    </tr>\n",
       "  </tbody>\n",
       "</table>\n",
       "</div>"
      ],
      "text/plain": [
       "                                       title  \\\n",
       "0                       GlenWyvis Distillery   \n",
       "1  Aberdeen Community Energy - Donside Hydro   \n",
       "2           Save The New Inn, Norton Lindsey   \n",
       "3                 Perranporth Community Pool   \n",
       "4                     Save The Bromley Cross   \n",
       "\n",
       "                                                 URL   Category    Goal  \\\n",
       "0  https://www.crowdfunder.co.uk/glenwyvis-distil...  Community 1496594   \n",
       "1                  https://www.crowdfunder.co.uk/ace  Community  500000   \n",
       "2  https://www.crowdfunder.co.uk/save-the-new-inn...  Community  300000   \n",
       "3  https://www.crowdfunder.co.uk/perranporth-comm...  Community  250322   \n",
       "4  https://www.crowdfunder.co.uk/save-the-bromley...  Community  210398   \n",
       "\n",
       "   Total raised  Pct Original Goal  successful  \n",
       "0       2544210                170        True  \n",
       "1        500000                100        True  \n",
       "2        342000                114        True  \n",
       "3        250322                100        True  \n",
       "4        212502                101        True  "
      ]
     },
     "execution_count": 17,
     "metadata": {},
     "output_type": "execute_result"
    }
   ],
   "source": [
    "df['Category'] = 'Community'\n",
    "df = df[['title','URL','Category','Goal','Total raised','Pct Original Goal','successful']]\n",
    "df.to_csv('Campaigns.csv')\n",
    "df.head(50)"
   ]
  },
  {
   "cell_type": "code",
   "execution_count": 16,
   "metadata": {},
   "outputs": [],
   "source": []
  },
  {
   "cell_type": "code",
   "execution_count": null,
   "metadata": {},
   "outputs": [],
   "source": []
  }
 ],
 "metadata": {
  "kernelspec": {
   "display_name": "Python 3",
   "language": "python",
   "name": "python3"
  },
  "language_info": {
   "codemirror_mode": {
    "name": "ipython",
    "version": 3
   },
   "file_extension": ".py",
   "mimetype": "text/x-python",
   "name": "python",
   "nbconvert_exporter": "python",
   "pygments_lexer": "ipython3",
   "version": "3.6.8"
  }
 },
 "nbformat": 4,
 "nbformat_minor": 2
}
